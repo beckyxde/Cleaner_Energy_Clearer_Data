{
 "metadata": {
  "language_info": {
   "codemirror_mode": {
    "name": "ipython",
    "version": 3
   },
   "file_extension": ".py",
   "mimetype": "text/x-python",
   "name": "python",
   "nbconvert_exporter": "python",
   "pygments_lexer": "ipython3",
   "version": "3.8.3-final"
  },
  "orig_nbformat": 2,
  "kernelspec": {
   "name": "python3",
   "display_name": "Python 3"
  }
 },
 "nbformat": 4,
 "nbformat_minor": 2,
 "cells": [
  {
   "cell_type": "code",
   "execution_count": 79,
   "metadata": {},
   "outputs": [],
   "source": [
    "import pandas as pd\n",
    "import numpy as np\n",
    "# import matplotlib.pyplot as plt\n",
    "from os import path\n",
    "\n",
    "df = pd.read_csv ('/Users/BeckyIngram/Downloads/Energie_and_Mining_Edited.csv')"
   ]
  },
  {
   "cell_type": "code",
   "execution_count": 82,
   "metadata": {},
   "outputs": [
    {
     "output_type": "execute_result",
     "data": {
      "text/plain": [
       "     Country        Year                                          Indicator  \\\n",
       "0    Austria  01.01.2016  CO2 emissions from gaseous fuel consumption (%...   \n",
       "1    Austria  01.01.2015  CO2 emissions from gaseous fuel consumption (%...   \n",
       "2    Austria  01.01.2014  CO2 emissions from gaseous fuel consumption (%...   \n",
       "3    Austria  01.01.2013  CO2 emissions from gaseous fuel consumption (%...   \n",
       "4    Austria  01.01.2012  CO2 emissions from gaseous fuel consumption (%...   \n",
       "..       ...         ...                                                ...   \n",
       "130   Poland  01.01.2018                       Natural gas rents (% of GDP)   \n",
       "131   Poland  01.01.2017                       Natural gas rents (% of GDP)   \n",
       "132   Poland  01.01.2016                       Natural gas rents (% of GDP)   \n",
       "133   Poland  01.01.2015                       Natural gas rents (% of GDP)   \n",
       "134   Poland  01.01.2014                       Natural gas rents (% of GDP)   \n",
       "\n",
       "     Value   Unnamed: 4  \n",
       "0       26  770901713.0  \n",
       "1       25  707787155.0  \n",
       "2       25   57585756.0  \n",
       "3       25  862068966.0  \n",
       "4       26  923982113.0  \n",
       "..     ...          ...  \n",
       "130      0   72761917.0  \n",
       "131      0   55877878.0  \n",
       "132      0   40956270.0  \n",
       "133      0   66979084.0  \n",
       "134      0   86224030.0  \n",
       "\n",
       "[135 rows x 5 columns]"
      ],
      "text/html": "<div>\n<style scoped>\n    .dataframe tbody tr th:only-of-type {\n        vertical-align: middle;\n    }\n\n    .dataframe tbody tr th {\n        vertical-align: top;\n    }\n\n    .dataframe thead th {\n        text-align: right;\n    }\n</style>\n<table border=\"1\" class=\"dataframe\">\n  <thead>\n    <tr style=\"text-align: right;\">\n      <th></th>\n      <th>Country</th>\n      <th>Year</th>\n      <th>Indicator</th>\n      <th>Value</th>\n      <th>Unnamed: 4</th>\n    </tr>\n  </thead>\n  <tbody>\n    <tr>\n      <th>0</th>\n      <td>Austria</td>\n      <td>01.01.2016</td>\n      <td>CO2 emissions from gaseous fuel consumption (%...</td>\n      <td>26</td>\n      <td>770901713.0</td>\n    </tr>\n    <tr>\n      <th>1</th>\n      <td>Austria</td>\n      <td>01.01.2015</td>\n      <td>CO2 emissions from gaseous fuel consumption (%...</td>\n      <td>25</td>\n      <td>707787155.0</td>\n    </tr>\n    <tr>\n      <th>2</th>\n      <td>Austria</td>\n      <td>01.01.2014</td>\n      <td>CO2 emissions from gaseous fuel consumption (%...</td>\n      <td>25</td>\n      <td>57585756.0</td>\n    </tr>\n    <tr>\n      <th>3</th>\n      <td>Austria</td>\n      <td>01.01.2013</td>\n      <td>CO2 emissions from gaseous fuel consumption (%...</td>\n      <td>25</td>\n      <td>862068966.0</td>\n    </tr>\n    <tr>\n      <th>4</th>\n      <td>Austria</td>\n      <td>01.01.2012</td>\n      <td>CO2 emissions from gaseous fuel consumption (%...</td>\n      <td>26</td>\n      <td>923982113.0</td>\n    </tr>\n    <tr>\n      <th>...</th>\n      <td>...</td>\n      <td>...</td>\n      <td>...</td>\n      <td>...</td>\n      <td>...</td>\n    </tr>\n    <tr>\n      <th>130</th>\n      <td>Poland</td>\n      <td>01.01.2018</td>\n      <td>Natural gas rents (% of GDP)</td>\n      <td>0</td>\n      <td>72761917.0</td>\n    </tr>\n    <tr>\n      <th>131</th>\n      <td>Poland</td>\n      <td>01.01.2017</td>\n      <td>Natural gas rents (% of GDP)</td>\n      <td>0</td>\n      <td>55877878.0</td>\n    </tr>\n    <tr>\n      <th>132</th>\n      <td>Poland</td>\n      <td>01.01.2016</td>\n      <td>Natural gas rents (% of GDP)</td>\n      <td>0</td>\n      <td>40956270.0</td>\n    </tr>\n    <tr>\n      <th>133</th>\n      <td>Poland</td>\n      <td>01.01.2015</td>\n      <td>Natural gas rents (% of GDP)</td>\n      <td>0</td>\n      <td>66979084.0</td>\n    </tr>\n    <tr>\n      <th>134</th>\n      <td>Poland</td>\n      <td>01.01.2014</td>\n      <td>Natural gas rents (% of GDP)</td>\n      <td>0</td>\n      <td>86224030.0</td>\n    </tr>\n  </tbody>\n</table>\n<p>135 rows × 5 columns</p>\n</div>"
     },
     "metadata": {},
     "execution_count": 82
    }
   ],
   "source": [
    "# df.iloc[1]\n",
    "df.head(-5)"
   ]
  },
  {
   "cell_type": "code",
   "execution_count": 83,
   "metadata": {},
   "outputs": [
    {
     "output_type": "execute_result",
     "data": {
      "text/plain": [
       "DatetimeIndex(['2016-01-01'], dtype='datetime64[ns]', freq='D')"
      ]
     },
     "metadata": {},
     "execution_count": 83
    }
   ],
   "source": [
    "pd.date_range('1/1/2016', periods=1)"
   ]
  },
  {
   "cell_type": "code",
   "execution_count": null,
   "metadata": {},
   "outputs": [],
   "source": []
  }
 ]
}